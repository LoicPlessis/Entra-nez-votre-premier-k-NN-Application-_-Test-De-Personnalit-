{
 "cells": [
  {
   "cell_type": "code",
   "execution_count": 10,
   "metadata": {},
   "outputs": [],
   "source": [
    "import os\n",
    "import glob\n",
    "import pandas as pd\n",
    "\n",
    "#on inqiue le chemin ou sont les CSV  \n",
    "os.chdir(r\"C:\\Users\\utilisateur\\Loic\\Formation_simplon\\Code\\Youssef\\Projets\\Entraînez votre premier k-NN  Application _ Test De Personnalité\\Run_Questionnaire\\DataSet\\Data_Set_final\\DataSet\")\n",
    "\n",
    "# on créer variable qui indique l'extension CSV\n",
    "extension = 'csv'\n",
    "\n",
    "#pour chaque CSV on créer une boucle qui ajoute les CSV a la suite ( on concatene) \n",
    "all_filenames = [i for i in glob.glob('*.{}'.format(extension))]\n",
    "\n",
    "\n",
    "#comine tous les fichiers dans une liste en concaténant \n",
    "combined_csv = pd.concat([pd.read_csv(f) for f in all_filenames ])\n",
    "\n",
    "#exporte dans un seul fichier CSV appelé combined csv \n",
    "combined_csv.to_csv( \"combined_csv.csv\", index=False, encoding='utf-8-sig')"
   ]
  },
  {
   "cell_type": "code",
   "execution_count": null,
   "metadata": {},
   "outputs": [],
   "source": []
  },
  {
   "cell_type": "code",
   "execution_count": null,
   "metadata": {},
   "outputs": [],
   "source": []
  }
 ],
 "metadata": {
  "kernelspec": {
   "display_name": "Python 3",
   "language": "python",
   "name": "python3"
  },
  "language_info": {
   "codemirror_mode": {
    "name": "ipython",
    "version": 3
   },
   "file_extension": ".py",
   "mimetype": "text/x-python",
   "name": "python",
   "nbconvert_exporter": "python",
   "pygments_lexer": "ipython3",
   "version": "3.8.3"
  }
 },
 "nbformat": 4,
 "nbformat_minor": 4
}
